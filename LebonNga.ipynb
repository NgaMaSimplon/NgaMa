{
 "cells": [
  {
   "cell_type": "code",
   "execution_count": 35,
   "metadata": {},
   "outputs": [],
   "source": [
    "import pandas as pd \n",
    "import numpy as np\n",
    "\n",
    "carac = pd.read_csv(\"/home/simplon/Téléchargements/caracteristiques-2019(1).csv\", delimiter = \";\")"
   ]
  },
  {
   "cell_type": "code",
   "execution_count": 36,
   "metadata": {},
   "outputs": [],
   "source": [
    "carac[\"year\"] = carac[\"an\"]\n",
    "carac[\"month\"] = carac[\"mois\"]\n",
    "carac[\"day\"] = carac[\"jour\"]\n",
    "\n",
    "carac[\"date\"] = pd.to_datetime(carac[[\"year\", \"month\", \"day\"]])"
   ]
  },
  {
   "cell_type": "code",
   "execution_count": 37,
   "metadata": {},
   "outputs": [],
   "source": [
    "from datetime import date\n",
    "import calendar\n",
    "my_date = [i for i in carac[\"date\"]]\n",
    "\n",
    "liste_day = []\n",
    "for x in my_date: \n",
    "    liste_day.append(calendar.day_name[x.weekday()])\n",
    "\n",
    "carac[\"journee\"] = liste_day\n",
    "\n",
    "carac[\"hrmn\"].value_counts()\n",
    "\n",
    "carac[\"hrmn_new\"] = pd.to_datetime(carac['hrmn'],format= '%H:%M' ).dt.time\n",
    "\n",
    "from datetime import time\n",
    "liste_time = []\n",
    "for i in carac[\"hrmn_new\"]:\n",
    "    if  i <=  time(17,00) and i > time(8,00):\n",
    "        liste_time.append(1)\n",
    "    if i <= time(20,00)and i > time(17,00): \n",
    "        liste_time.append(2)\n",
    "    if i <= time(23,59) and i > time(20,00): \n",
    "        liste_time.append(3)\n",
    "    if i <= time(5,00) and i >= time(00,00): \n",
    "        liste_time.append(4)\n",
    "    if i <= time(8,00) and i > time(5,00): \n",
    "        liste_time.append(5)"
   ]
  },
  {
   "cell_type": "code",
   "execution_count": 38,
   "metadata": {},
   "outputs": [
    {
     "data": {
      "text/plain": [
       "75     5610\n",
       "93     3130\n",
       "13     2997\n",
       "94     2681\n",
       "69     2523\n",
       "       ... \n",
       "90       47\n",
       "978      33\n",
       "977      16\n",
       "986      10\n",
       "975       4\n",
       "Name: dep, Length: 107, dtype: int64"
      ]
     },
     "execution_count": 38,
     "metadata": {},
     "output_type": "execute_result"
    }
   ],
   "source": [
    "df_time = pd.DataFrame(liste_time)\n",
    "carac[\"cat_time\"] = df_time\n",
    "\n",
    "rdata = carac[[\"Num_Acc\", \"lum\", \"dep\", \"agg\", \"atm\", \"date\",\"cat_time\", \"journee\"]]\n",
    "rdata[\"dep\"].value_counts()"
   ]
  },
  {
   "cell_type": "code",
   "execution_count": 39,
   "metadata": {},
   "outputs": [],
   "source": [
    "### Correspondance académie département \n",
    "\n",
    "ZONES = {'A': ['03','15', '43', '63','07', '26', '38', '73', '74', '01', '42', '69', \n",
    "'25', '39', '70', '90', '21', '58', '71', '89', '24', '33', '40', '47', '64', '19',\n",
    "'23', '87', '16', '17', '79', '86'], \n",
    "         'B': ['22','29','35','56', '18', '28', '36', '37', '41', '45', '54', '55', \n",
    "'57', '88', '08', '10','51', '52', '67', '68', '02', '60', '80', '59', '62', '14',\n",
    "               '50', '61', '27', '76', '975', '44', '49', '53', '72', '85', '04', '05', '13', '84', '06', '83'],\n",
    "         'C':['77', '93', '94', '75', '78', '91', '92', '95', '11', '30', '34',\n",
    "'48', '66', '09', '12', '31', '32', '46', '65', '81', '82']} \n",
    "\n",
    "\n",
    "REGIONS = {\n",
    "    'Auvergne-Rhône-Alpes': ['01', '03', '07', '15', '26', '38', '42', '43', '63', '69', '73', '74'],\n",
    "    'Bourgogne-Franche-Comté': ['21', '25', '39', '58', '70', '71', '89', '90'],\n",
    "    'Bretagne': ['35', '22', '56', '29'],\n",
    "    'Centre-Val de Loire': ['18', '28', '36', '37', '41', '45'],\n",
    "    'Corse': ['2A', '2B'],\n",
    "    'Grand Est': ['08', '10', '51', '52', '54', '55', '57', '67', '68', '88'],\n",
    "    'Guadeloupe': ['971'],\n",
    "    'Guyane': ['973'],\n",
    "    'Hauts-de-France': ['02', '59', '60', '62', '80'],\n",
    "    'Île-de-France': ['75', '77', '78', '91', '92', '93', '94', '95'],\n",
    "    'La Réunion': ['974'],\n",
    "    'Martinique': ['972'],\n",
    "    'Normandie': ['14', '27', '50', '61', '76'],\n",
    "    'Nouvelle-Aquitaine': ['16', '17', '19', '23', '24', '33', '40', '47', '64', '79', '86', '87'],\n",
    "    'Occitanie': ['09', '11', '12', '30', '31', '32', '34', '46', '48', '65', '66', '81', '82'],\n",
    "    'Pays de la Loire': ['44', '49', '53', '72', '85'],\n",
    "    'Provence-Alpes-Côte d\\'Azur': ['04', '05', '06', '13', '83', '84'],\n",
    "}\n",
    "DEPARTMENTS = {\n",
    "    '01': 'Ain', \n",
    "    '02': 'Aisne', \n",
    "    '03': 'Allier', \n",
    "    '04': 'Alpes-de-Haute-Provence', \n",
    "    '05': 'Hautes-Alpes',\n",
    "    '06': 'Alpes-Maritimes', \n",
    "    '07': 'Ardèche', \n",
    "    '08': 'Ardennes', \n",
    "    '09': 'Ariège', \n",
    "    '10': 'Aube', \n",
    "    '11': 'Aude',\n",
    "    '12': 'Aveyron', \n",
    "    '13': 'Bouches-du-Rhône', \n",
    "    '14': 'Calvados', \n",
    "    '15': 'Cantal', \n",
    "    '16': 'Charente',\n",
    "    '17': 'Charente-Maritime', \n",
    "    '18': 'Cher', \n",
    "    '19': 'Corrèze', \n",
    "    '2A': 'Corse-du-Sud', \n",
    "    '2B': 'Haute-Corse',\n",
    "    '21': 'Côte-d\\'Or', \n",
    "    '22': 'Côtes-d\\'Armor', \n",
    "    '23': 'Creuse', \n",
    "    '24': 'Dordogne', \n",
    "    '25': 'Doubs', \n",
    "    '26': 'Drôme',\n",
    "    '27': 'Eure', \n",
    "    '28': 'Eure-et-Loir', \n",
    "    '29': 'Finistère', \n",
    "    '30': 'Gard', \n",
    "    '31': 'Haute-Garonne', \n",
    "    '32': 'Gers',\n",
    "    '33': 'Gironde', \n",
    "    '34': 'Hérault', \n",
    "    '35': 'Ille-et-Vilaine', \n",
    "    '36': 'Indre', \n",
    "    '37': 'Indre-et-Loire',\n",
    "    '38': 'Isère', \n",
    "    '39': 'Jura', \n",
    "    '40': 'Landes', \n",
    "    '41': 'Loir-et-Cher', \n",
    "    '42': 'Loire', \n",
    "    '43': 'Haute-Loire',\n",
    "    '44': 'Loire-Atlantique', \n",
    "    '45': 'Loiret', \n",
    "    '46': 'Lot', \n",
    "    '47': 'Lot-et-Garonne', \n",
    "    '48': 'Lozère',\n",
    "    '49': 'Maine-et-Loire', \n",
    "    '50': 'Manche', \n",
    "    '51': 'Marne', \n",
    "    '52': 'Haute-Marne', \n",
    "    '53': 'Mayenne',\n",
    "    '54': 'Meurthe-et-Moselle', \n",
    "    '55': 'Meuse', \n",
    "    '56': 'Morbihan', \n",
    "    '57': 'Moselle', \n",
    "    '58': 'Nièvre', \n",
    "    '59': 'Nord',\n",
    "    '60': 'Oise', \n",
    "    '61': 'Orne', \n",
    "    '62': 'Pas-de-Calais', \n",
    "    '63': 'Puy-de-Dôme', \n",
    "    '64': 'Pyrénées-Atlantiques',\n",
    "    '65': 'Hautes-Pyrénées', \n",
    "    '66': 'Pyrénées-Orientales', \n",
    "    '67': 'Bas-Rhin', \n",
    "    '68': 'Haut-Rhin', \n",
    "    '69': 'Rhône',\n",
    "    '70': 'Haute-Saône', \n",
    "    '71': 'Saône-et-Loire', \n",
    "    '72': 'Sarthe', \n",
    "    '73': 'Savoie', \n",
    "    '74': 'Haute-Savoie',\n",
    "    '75': 'Paris', \n",
    "    '76': 'Seine-Maritime', \n",
    "    '77': 'Seine-et-Marne', \n",
    "    '78': 'Yvelines', \n",
    "    '79': 'Deux-Sèvres',\n",
    "    '80': 'Somme', \n",
    "    '81': 'Tarn', \n",
    "    '82': 'Tarn-et-Garonne', \n",
    "    '83': 'Var', \n",
    "    '84': 'Vaucluse', \n",
    "    '85': 'Vendée',\n",
    "    '86': 'Vienne', \n",
    "    '87': 'Haute-Vienne', \n",
    "    '88': 'Vosges', \n",
    "    '89': 'Yonne', \n",
    "    '90': 'Territoire de Belfort',\n",
    "    '91': 'Essonne', \n",
    "    '92': 'Hauts-de-Seine', \n",
    "    '93': 'Seine-Saint-Denis', \n",
    "    '94': 'Val-de-Marne', \n",
    "    '95': 'Val-d\\'Oise',\n",
    "    '971': 'Guadeloupe', \n",
    "    '972': 'Martinique', \n",
    "    '973': 'Guyane', \n",
    "    '974': 'La Réunion', \n",
    "    '976': 'Mayotte',\n",
    "}\n",
    "\n",
    "zoneA = ['03','15', '43', '63','07', '26', '38', '73', '74', '01', '42', '69', '25', '39', '70', '90', '21', '58', '71', '89', '24', '33', '40', '47', '64', '19',\n",
    "'23', '87', '16', '17', '79', '86'] \n",
    "zoneB =  ['22','29','35','56', '18', '28', '36', '37', '41', '45', '54', '55','57', '88', '08', '10','51', '52', '67', '68', '02', '60', '80', '59', '62', '14','50', '61', '27', '76', '975', '44', '49', '53', '72', '85', '04', '05', '13', '84', '06', '83']\n",
    "zoneC = ['77', '93', '94', '75', '78', '91', '92', '95', '11', '30', '34','48', '66', '09', '12', '31', '32', '46', '65', '81', '82']\n",
    "corse = ['2A', '2B']\n",
    "guadeloupe = ['971', '977', '978']\n",
    "martinique = ['972']\n",
    "reunion = ['974']\n",
    "mayotte = ['976']\n",
    "wallis_futuna = ['986']\n",
    "polynesie = ['987']\n",
    "nouvelle_cal = ['988']\n",
    "guyane = ['973']\n",
    "zoneAUTRE = corse + guadeloupe + martinique + reunion + mayotte + wallis_futuna + polynesie + nouvelle_cal + guyane"
   ]
  },
  {
   "cell_type": "code",
   "execution_count": 40,
   "metadata": {},
   "outputs": [],
   "source": [
    "liste_zone = []\n",
    "for i in rdata['dep']: \n",
    "    if i in zoneA: \n",
    "        liste_zone.append(\"A\")\n",
    "    elif i in zoneB: \n",
    "        liste_zone.append(\"B\")\n",
    "    elif i in zoneC: \n",
    "        liste_zone.append(\"C\")\n",
    "    else: \n",
    "        liste_zone.append(\"AUTRE\")"
   ]
  },
  {
   "cell_type": "code",
   "execution_count": 41,
   "metadata": {},
   "outputs": [],
   "source": [
    "list_zone = pd.DataFrame(liste_zone)"
   ]
  },
  {
   "cell_type": "code",
   "execution_count": 42,
   "metadata": {},
   "outputs": [
    {
     "name": "stderr",
     "output_type": "stream",
     "text": [
      "<ipython-input-42-f945972152e5>:1: SettingWithCopyWarning: \n",
      "A value is trying to be set on a copy of a slice from a DataFrame.\n",
      "Try using .loc[row_indexer,col_indexer] = value instead\n",
      "\n",
      "See the caveats in the documentation: https://pandas.pydata.org/pandas-docs/stable/user_guide/indexing.html#returning-a-view-versus-a-copy\n",
      "  rdata[\"zone\"] = list_zone\n"
     ]
    }
   ],
   "source": [
    "rdata[\"zone\"] = list_zone"
   ]
  },
  {
   "cell_type": "code",
   "execution_count": 43,
   "metadata": {},
   "outputs": [],
   "source": [
    "usagers = pd.read_csv(\"usagers-2019.csv\", delimiter = \";\")"
   ]
  },
  {
   "cell_type": "code",
   "execution_count": 44,
   "metadata": {},
   "outputs": [],
   "source": [
    "udata = usagers[[\"Num_Acc\", 'grav']]"
   ]
  },
  {
   "cell_type": "code",
   "execution_count": 13,
   "metadata": {},
   "outputs": [
    {
     "data": {
      "text/html": [
       "<div>\n",
       "<style scoped>\n",
       "    .dataframe tbody tr th:only-of-type {\n",
       "        vertical-align: middle;\n",
       "    }\n",
       "\n",
       "    .dataframe tbody tr th {\n",
       "        vertical-align: top;\n",
       "    }\n",
       "\n",
       "    .dataframe thead th {\n",
       "        text-align: right;\n",
       "    }\n",
       "</style>\n",
       "<table border=\"1\" class=\"dataframe\">\n",
       "  <thead>\n",
       "    <tr style=\"text-align: right;\">\n",
       "      <th></th>\n",
       "      <th>Num_Acc</th>\n",
       "      <th>grav</th>\n",
       "    </tr>\n",
       "  </thead>\n",
       "  <tbody>\n",
       "    <tr>\n",
       "      <th>0</th>\n",
       "      <td>201900000001</td>\n",
       "      <td>4</td>\n",
       "    </tr>\n",
       "    <tr>\n",
       "      <th>1</th>\n",
       "      <td>201900000001</td>\n",
       "      <td>4</td>\n",
       "    </tr>\n",
       "    <tr>\n",
       "      <th>2</th>\n",
       "      <td>201900000001</td>\n",
       "      <td>1</td>\n",
       "    </tr>\n",
       "    <tr>\n",
       "      <th>3</th>\n",
       "      <td>201900000002</td>\n",
       "      <td>4</td>\n",
       "    </tr>\n",
       "    <tr>\n",
       "      <th>4</th>\n",
       "      <td>201900000003</td>\n",
       "      <td>1</td>\n",
       "    </tr>\n",
       "    <tr>\n",
       "      <th>...</th>\n",
       "      <td>...</td>\n",
       "      <td>...</td>\n",
       "    </tr>\n",
       "    <tr>\n",
       "      <th>132972</th>\n",
       "      <td>201900058837</td>\n",
       "      <td>4</td>\n",
       "    </tr>\n",
       "    <tr>\n",
       "      <th>132973</th>\n",
       "      <td>201900058838</td>\n",
       "      <td>4</td>\n",
       "    </tr>\n",
       "    <tr>\n",
       "      <th>132974</th>\n",
       "      <td>201900058839</td>\n",
       "      <td>3</td>\n",
       "    </tr>\n",
       "    <tr>\n",
       "      <th>132975</th>\n",
       "      <td>201900058840</td>\n",
       "      <td>4</td>\n",
       "    </tr>\n",
       "    <tr>\n",
       "      <th>132976</th>\n",
       "      <td>201900058840</td>\n",
       "      <td>1</td>\n",
       "    </tr>\n",
       "  </tbody>\n",
       "</table>\n",
       "<p>132977 rows × 2 columns</p>\n",
       "</div>"
      ],
      "text/plain": [
       "             Num_Acc  grav\n",
       "0       201900000001     4\n",
       "1       201900000001     4\n",
       "2       201900000001     1\n",
       "3       201900000002     4\n",
       "4       201900000003     1\n",
       "...              ...   ...\n",
       "132972  201900058837     4\n",
       "132973  201900058838     4\n",
       "132974  201900058839     3\n",
       "132975  201900058840     4\n",
       "132976  201900058840     1\n",
       "\n",
       "[132977 rows x 2 columns]"
      ]
     },
     "execution_count": 13,
     "metadata": {},
     "output_type": "execute_result"
    }
   ],
   "source": [
    "udata"
   ]
  },
  {
   "cell_type": "code",
   "execution_count": 45,
   "metadata": {},
   "outputs": [
    {
     "name": "stdout",
     "output_type": "stream",
     "text": [
      "            Num_Acc  grav\n",
      "0      201900000001  3.00\n",
      "1      201900000002  4.00\n",
      "2      201900000003  2.50\n",
      "3      201900000004  1.75\n",
      "4      201900000005  2.00\n",
      "...             ...   ...\n",
      "58835  201900058836  4.00\n",
      "58836  201900058837  3.00\n",
      "58837  201900058838  4.00\n",
      "58838  201900058839  3.00\n",
      "58839  201900058840  2.50\n",
      "\n",
      "[58840 rows x 2 columns]\n"
     ]
    }
   ],
   "source": [
    "grav_moy = udata.groupby('Num_Acc', as_index=False)['grav'].mean()\n",
    "\n",
    "print(grav_moy)"
   ]
  },
  {
   "cell_type": "code",
   "execution_count": 46,
   "metadata": {
    "scrolled": true
   },
   "outputs": [
    {
     "name": "stderr",
     "output_type": "stream",
     "text": [
      "<ipython-input-46-e9aaeec6927a>:1: SettingWithCopyWarning: \n",
      "A value is trying to be set on a copy of a slice from a DataFrame.\n",
      "Try using .loc[row_indexer,col_indexer] = value instead\n",
      "\n",
      "See the caveats in the documentation: https://pandas.pydata.org/pandas-docs/stable/user_guide/indexing.html#returning-a-view-versus-a-copy\n",
      "  rdata['grav_moy'] = grav_moy[\"grav\"]\n",
      "<ipython-input-46-e9aaeec6927a>:9: SettingWithCopyWarning: \n",
      "A value is trying to be set on a copy of a slice from a DataFrame.\n",
      "Try using .loc[row_indexer,col_indexer] = value instead\n",
      "\n",
      "See the caveats in the documentation: https://pandas.pydata.org/pandas-docs/stable/user_guide/indexing.html#returning-a-view-versus-a-copy\n",
      "  rdata[\"new_date\"]= list_date\n",
      "<ipython-input-46-e9aaeec6927a>:12: SettingWithCopyWarning: \n",
      "A value is trying to be set on a copy of a slice from a DataFrame.\n",
      "Try using .loc[row_indexer,col_indexer] = value instead\n",
      "\n",
      "See the caveats in the documentation: https://pandas.pydata.org/pandas-docs/stable/user_guide/indexing.html#returning-a-view-versus-a-copy\n",
      "  rdata[\"year\"] = rdata[\"new_date\"].apply(lambda x: int(x[0]))\n",
      "<ipython-input-46-e9aaeec6927a>:13: SettingWithCopyWarning: \n",
      "A value is trying to be set on a copy of a slice from a DataFrame.\n",
      "Try using .loc[row_indexer,col_indexer] = value instead\n",
      "\n",
      "See the caveats in the documentation: https://pandas.pydata.org/pandas-docs/stable/user_guide/indexing.html#returning-a-view-versus-a-copy\n",
      "  rdata[\"month\"] = rdata[\"new_date\"].apply(lambda y : int(y[1]))\n",
      "<ipython-input-46-e9aaeec6927a>:14: SettingWithCopyWarning: \n",
      "A value is trying to be set on a copy of a slice from a DataFrame.\n",
      "Try using .loc[row_indexer,col_indexer] = value instead\n",
      "\n",
      "See the caveats in the documentation: https://pandas.pydata.org/pandas-docs/stable/user_guide/indexing.html#returning-a-view-versus-a-copy\n",
      "  rdata[\"day\"] = rdata[\"new_date\"].apply(lambda z: int(z[2]))\n",
      "<ipython-input-46-e9aaeec6927a>:18: SettingWithCopyWarning: \n",
      "A value is trying to be set on a copy of a slice from a DataFrame.\n",
      "Try using .loc[row_indexer,col_indexer] = value instead\n",
      "\n",
      "See the caveats in the documentation: https://pandas.pydata.org/pandas-docs/stable/user_guide/indexing.html#returning-a-view-versus-a-copy\n",
      "  rdata[\"tuple\"] = tuple(rdata[\"new_date\"])\n",
      "<ipython-input-46-e9aaeec6927a>:33: SettingWithCopyWarning: \n",
      "A value is trying to be set on a copy of a slice from a DataFrame.\n",
      "Try using .loc[row_indexer,col_indexer] = value instead\n",
      "\n",
      "See the caveats in the documentation: https://pandas.pydata.org/pandas-docs/stable/user_guide/indexing.html#returning-a-view-versus-a-copy\n",
      "  rdata[\"vac\"] = list_vac\n"
     ]
    }
   ],
   "source": [
    "\n",
    "rdata['grav_moy'] = grav_moy[\"grav\"]\n",
    "\n",
    "list_date = []\n",
    "for i in rdata[\"date\"]: \n",
    "   \n",
    "    list_date.append([i.strftime(\"%Y\"),i.strftime(\"%m\"),i.strftime(\"%d\")])\n",
    "\n",
    "\n",
    "rdata[\"new_date\"]= list_date\n",
    "\n",
    "\n",
    "rdata[\"year\"] = rdata[\"new_date\"].apply(lambda x: int(x[0]))\n",
    "rdata[\"month\"] = rdata[\"new_date\"].apply(lambda y : int(y[1]))\n",
    "rdata[\"day\"] = rdata[\"new_date\"].apply(lambda z: int(z[2]))\n",
    "\n",
    "\n",
    "\n",
    "rdata[\"tuple\"] = tuple(rdata[\"new_date\"])\n",
    "\n",
    "\n",
    "from vacances_scolaires_france import SchoolHolidayDates\n",
    "import datetime\n",
    "d = SchoolHolidayDates()\n",
    "\n",
    "list_vac = []\n",
    "for i in range(rdata.shape[0]): \n",
    "    if rdata[\"zone\"][i] != \"AUTRE\": \n",
    "        list_vac.append(d.is_holiday_for_zone(datetime.date(rdata[\"year\"][i], rdata[\"month\"][i], rdata[\"day\"][i]), rdata[\"zone\"][i]))\n",
    "    else: \n",
    "        list_vac.append(\"AUTRE\")\n",
    "\n",
    "\n",
    "rdata[\"vac\"] = list_vac\n",
    "\n",
    "\n",
    "\n",
    "vrai_data = rdata[[\"lum\", \"dep\", \"agg\", \"atm\", \"date\", \"cat_time\", \"journee\", \"zone\", \"grav_moy\", \"vac\"]]\n"
   ]
  },
  {
   "cell_type": "code",
   "execution_count": 47,
   "metadata": {},
   "outputs": [
    {
     "name": "stdout",
     "output_type": "stream",
     "text": [
      "C        0.367675\n",
      "B        0.321771\n",
      "A        0.201768\n",
      "AUTRE    0.108787\n",
      "Name: zone, dtype: float64\n"
     ]
    }
   ],
   "source": [
    "print(rdata['zone'].value_counts(normalize=True))"
   ]
  },
  {
   "cell_type": "code",
   "execution_count": 48,
   "metadata": {},
   "outputs": [
    {
     "name": "stderr",
     "output_type": "stream",
     "text": [
      "<ipython-input-48-13bf66710e1c>:1: SettingWithCopyWarning: \n",
      "A value is trying to be set on a copy of a slice from a DataFrame.\n",
      "Try using .loc[row_indexer,col_indexer] = value instead\n",
      "\n",
      "See the caveats in the documentation: https://pandas.pydata.org/pandas-docs/stable/user_guide/indexing.html#returning-a-view-versus-a-copy\n",
      "  rdata['vacances']=list_vac\n"
     ]
    }
   ],
   "source": [
    "rdata['vacances']=list_vac"
   ]
  },
  {
   "cell_type": "code",
   "execution_count": 49,
   "metadata": {},
   "outputs": [
    {
     "name": "stderr",
     "output_type": "stream",
     "text": [
      "<ipython-input-49-bfdc601f9719>:1: SettingWithCopyWarning: \n",
      "A value is trying to be set on a copy of a slice from a DataFrame.\n",
      "Try using .loc[row_indexer,col_indexer] = value instead\n",
      "\n",
      "See the caveats in the documentation: https://pandas.pydata.org/pandas-docs/stable/user_guide/indexing.html#returning-a-view-versus-a-copy\n",
      "  rdata[\"vac\"]=list_vac\n"
     ]
    }
   ],
   "source": [
    "rdata[\"vac\"]=list_vac"
   ]
  },
  {
   "cell_type": "code",
   "execution_count": 50,
   "metadata": {},
   "outputs": [
    {
     "name": "stdout",
     "output_type": "stream",
     "text": [
      "False    0.608990\n",
      "True     0.282223\n",
      "AUTRE    0.108787\n",
      "Name: vacances, dtype: float64\n"
     ]
    }
   ],
   "source": [
    "print(rdata['vacances'].value_counts(normalize=True))"
   ]
  },
  {
   "cell_type": "code",
   "execution_count": 51,
   "metadata": {},
   "outputs": [
    {
     "name": "stdout",
     "output_type": "stream",
     "text": [
      "False    0.683327\n",
      "True     0.316673\n",
      "Name: vacances, dtype: float64\n"
     ]
    }
   ],
   "source": [
    "rdata2=rdata.copy()\n",
    "rdata2=rdata2[rdata2['vacances']!= 'AUTRE']\n",
    "print(rdata2['vacances'].value_counts(normalize=True))"
   ]
  },
  {
   "cell_type": "code",
   "execution_count": 53,
   "metadata": {},
   "outputs": [
    {
     "name": "stdout",
     "output_type": "stream",
     "text": [
      "[2 1]\n"
     ]
    },
    {
     "name": "stderr",
     "output_type": "stream",
     "text": [
      "<ipython-input-53-cf0d77f10435>:1: SettingWithCopyWarning: \n",
      "A value is trying to be set on a copy of a slice from a DataFrame.\n",
      "Try using .loc[row_indexer,col_indexer] = value instead\n",
      "\n",
      "See the caveats in the documentation: https://pandas.pydata.org/pandas-docs/stable/user_guide/indexing.html#returning-a-view-versus-a-copy\n",
      "  rdata['vacances'] = rdata['vacances'].replace(True, 0)\n",
      "<ipython-input-53-cf0d77f10435>:2: SettingWithCopyWarning: \n",
      "A value is trying to be set on a copy of a slice from a DataFrame.\n",
      "Try using .loc[row_indexer,col_indexer] = value instead\n",
      "\n",
      "See the caveats in the documentation: https://pandas.pydata.org/pandas-docs/stable/user_guide/indexing.html#returning-a-view-versus-a-copy\n",
      "  rdata['vacances'] = rdata['vacances'].replace(False, 2)\n",
      "<ipython-input-53-cf0d77f10435>:3: SettingWithCopyWarning: \n",
      "A value is trying to be set on a copy of a slice from a DataFrame.\n",
      "Try using .loc[row_indexer,col_indexer] = value instead\n",
      "\n",
      "See the caveats in the documentation: https://pandas.pydata.org/pandas-docs/stable/user_guide/indexing.html#returning-a-view-versus-a-copy\n",
      "  rdata['vacances'] = rdata['vacances'].replace('AUTRE', 1)\n"
     ]
    }
   ],
   "source": [
    "rdata['vacances'] = rdata['vacances'].replace(True, 0)\n",
    "rdata['vacances'] = rdata['vacances'].replace(False, 2)\n",
    "rdata['vacances'] = rdata['vacances'].replace('AUTRE', 1)\n",
    "\n",
    "print(rdata['vacances'].unique())"
   ]
  },
  {
   "cell_type": "code",
   "execution_count": 54,
   "metadata": {},
   "outputs": [
    {
     "data": {
      "text/plain": [
       "2    52439\n",
       "1     6401\n",
       "Name: vacances, dtype: int64"
      ]
     },
     "execution_count": 54,
     "metadata": {},
     "output_type": "execute_result"
    }
   ],
   "source": [
    "rdata['vacances'].value_counts()"
   ]
  },
  {
   "cell_type": "raw",
   "metadata": {},
   "source": [
    "# ### DEUXIÈME FICHIER USAGERS\n",
    "\n",
    "# grav\n",
    "\n",
    "# Gravité de blessure de l'usager\n",
    "\n",
    "# 1 – Indemne\n",
    "# 2 – tué\n",
    "# 3 – Blessé hospitalisé\n",
    "# 4 – blessé leger"
   ]
  },
  {
   "cell_type": "code",
   "execution_count": 55,
   "metadata": {},
   "outputs": [
    {
     "name": "stderr",
     "output_type": "stream",
     "text": [
      "<ipython-input-55-44b377a6da87>:2: SettingWithCopyWarning: \n",
      "A value is trying to be set on a copy of a slice from a DataFrame.\n",
      "Try using .loc[row_indexer,col_indexer] = value instead\n",
      "\n",
      "See the caveats in the documentation: https://pandas.pydata.org/pandas-docs/stable/user_guide/indexing.html#returning-a-view-versus-a-copy\n",
      "  udata['grav']= udata['grav'].map(nv_grav )\n"
     ]
    }
   ],
   "source": [
    "nv_grav = {1: 0, 2:2, 3:2, 4:1}\n",
    "udata['grav']= udata['grav'].map(nv_grav )"
   ]
  },
  {
   "cell_type": "code",
   "execution_count": 56,
   "metadata": {},
   "outputs": [
    {
     "data": {
      "text/plain": [
       "0    55314\n",
       "1    53307\n",
       "2    24356\n",
       "Name: grav, dtype: int64"
      ]
     },
     "execution_count": 56,
     "metadata": {},
     "output_type": "execute_result"
    }
   ],
   "source": [
    "udata['grav'].value_counts()"
   ]
  },
  {
   "cell_type": "code",
   "execution_count": 58,
   "metadata": {},
   "outputs": [
    {
     "name": "stderr",
     "output_type": "stream",
     "text": [
      "<ipython-input-58-b752cd6de99b>:3: SettingWithCopyWarning: \n",
      "A value is trying to be set on a copy of a slice from a DataFrame.\n",
      "Try using .loc[row_indexer,col_indexer] = value instead\n",
      "\n",
      "See the caveats in the documentation: https://pandas.pydata.org/pandas-docs/stable/user_guide/indexing.html#returning-a-view-versus-a-copy\n",
      "  rdata['grav_moy'] = grav_moy[\"grav\"]\n",
      "<ipython-input-58-b752cd6de99b>:12: SettingWithCopyWarning: \n",
      "A value is trying to be set on a copy of a slice from a DataFrame.\n",
      "Try using .loc[row_indexer,col_indexer] = value instead\n",
      "\n",
      "See the caveats in the documentation: https://pandas.pydata.org/pandas-docs/stable/user_guide/indexing.html#returning-a-view-versus-a-copy\n",
      "  rdata[\"new_date\"]= list_date\n",
      "<ipython-input-58-b752cd6de99b>:15: SettingWithCopyWarning: \n",
      "A value is trying to be set on a copy of a slice from a DataFrame.\n",
      "Try using .loc[row_indexer,col_indexer] = value instead\n",
      "\n",
      "See the caveats in the documentation: https://pandas.pydata.org/pandas-docs/stable/user_guide/indexing.html#returning-a-view-versus-a-copy\n",
      "  rdata[\"year\"] = rdata[\"new_date\"].apply(lambda x: int(x[2]))\n",
      "<ipython-input-58-b752cd6de99b>:16: SettingWithCopyWarning: \n",
      "A value is trying to be set on a copy of a slice from a DataFrame.\n",
      "Try using .loc[row_indexer,col_indexer] = value instead\n",
      "\n",
      "See the caveats in the documentation: https://pandas.pydata.org/pandas-docs/stable/user_guide/indexing.html#returning-a-view-versus-a-copy\n",
      "  rdata[\"month\"] = rdata[\"new_date\"].apply(lambda y : int(y[1]))\n",
      "<ipython-input-58-b752cd6de99b>:17: SettingWithCopyWarning: \n",
      "A value is trying to be set on a copy of a slice from a DataFrame.\n",
      "Try using .loc[row_indexer,col_indexer] = value instead\n",
      "\n",
      "See the caveats in the documentation: https://pandas.pydata.org/pandas-docs/stable/user_guide/indexing.html#returning-a-view-versus-a-copy\n",
      "  rdata[\"day\"] = rdata[\"new_date\"].apply(lambda z: int(z[0]))\n"
     ]
    }
   ],
   "source": [
    "grav_moy = udata.groupby('Num_Acc', as_index=False)['grav'].mean()\n",
    "\n",
    "rdata['grav_moy'] = grav_moy[\"grav\"]\n",
    "\n",
    "\n",
    "list_date = []\n",
    "for i in rdata[\"date\"]: \n",
    "  \n",
    "    list_date.append([i.strftime(\"%Y\"),i.strftime(\"%m\"),i.strftime(\"%d\")])\n",
    "\n",
    "\n",
    "rdata[\"new_date\"]= list_date\n",
    "\n",
    "\n",
    "rdata[\"year\"] = rdata[\"new_date\"].apply(lambda x: int(x[2]))\n",
    "rdata[\"month\"] = rdata[\"new_date\"].apply(lambda y : int(y[1]))\n",
    "rdata[\"day\"] = rdata[\"new_date\"].apply(lambda z: int(z[0]))\n"
   ]
  },
  {
   "cell_type": "code",
   "execution_count": 59,
   "metadata": {},
   "outputs": [],
   "source": [
    "vrai_data = rdata[[\"lum\", \"dep\", \"agg\", \"atm\", \"date\", \"cat_time\", \"journee\", \"grav_moy\",\"vacances\"]]\n"
   ]
  },
  {
   "cell_type": "code",
   "execution_count": 27,
   "metadata": {},
   "outputs": [
    {
     "data": {
      "image/png": "[encoded data removed]",
      "text/plain": [
       "<Figure size 2880x1440 with 1 Axes>"
      ]
     },
     "metadata": {},
     "output_type": "display_data"
    }
   ],
   "source": [
    "import seaborn as sns\n",
    "import matplotlib.pyplot as plt\n",
    "\n",
    "sns.set_theme(style=\"darkgrid\")\n",
    "plt.figure(figsize=(40, 20))\n",
    "ax = sns.histplot(x=\"grav_moy\", data=vrai_data, bins=3, stat=\"count\")"
   ]
  },
  {
   "cell_type": "code",
   "execution_count": 60,
   "metadata": {},
   "outputs": [
    {
     "name": "stdout",
     "output_type": "stream",
     "text": [
      "0        2\n",
      "1        2\n",
      "2        1\n",
      "3        1\n",
      "4        1\n",
      "        ..\n",
      "58835    2\n",
      "58836    2\n",
      "58837    2\n",
      "58838    3\n",
      "58839    1\n",
      "Name: grav_moy_class, Length: 58840, dtype: int64\n"
     ]
    },
    {
     "name": "stderr",
     "output_type": "stream",
     "text": [
      "<ipython-input-60-e037b9299c2d>:1: SettingWithCopyWarning: \n",
      "A value is trying to be set on a copy of a slice from a DataFrame.\n",
      "Try using .loc[row_indexer,col_indexer] = value instead\n",
      "\n",
      "See the caveats in the documentation: https://pandas.pydata.org/pandas-docs/stable/user_guide/indexing.html#returning-a-view-versus-a-copy\n",
      "  vrai_data[\"grav_moy_class\"] = 0\n",
      "<ipython-input-60-e037b9299c2d>:2: SettingWithCopyWarning: \n",
      "A value is trying to be set on a copy of a slice from a DataFrame\n",
      "\n",
      "See the caveats in the documentation: https://pandas.pydata.org/pandas-docs/stable/user_guide/indexing.html#returning-a-view-versus-a-copy\n",
      "  vrai_data[\"grav_moy_class\"][(vrai_data[\"grav_moy\"]>=0) & (vrai_data[\"grav_moy\"]<=0.51)]=1\n",
      "/home/simplon/anaconda3/lib/python3.8/site-packages/pandas/core/generic.py:8861: SettingWithCopyWarning: \n",
      "A value is trying to be set on a copy of a slice from a DataFrame\n",
      "\n",
      "See the caveats in the documentation: https://pandas.pydata.org/pandas-docs/stable/user_guide/indexing.html#returning-a-view-versus-a-copy\n",
      "  return self._update_inplace(result)\n",
      "<ipython-input-60-e037b9299c2d>:3: SettingWithCopyWarning: \n",
      "A value is trying to be set on a copy of a slice from a DataFrame\n",
      "\n",
      "See the caveats in the documentation: https://pandas.pydata.org/pandas-docs/stable/user_guide/indexing.html#returning-a-view-versus-a-copy\n",
      "  vrai_data[\"grav_moy_class\"][(vrai_data[\"grav_moy\"]>0.51) & (vrai_data[\"grav_moy\"]<1.01)]=2\n",
      "<ipython-input-60-e037b9299c2d>:4: SettingWithCopyWarning: \n",
      "A value is trying to be set on a copy of a slice from a DataFrame\n",
      "\n",
      "See the caveats in the documentation: https://pandas.pydata.org/pandas-docs/stable/user_guide/indexing.html#returning-a-view-versus-a-copy\n",
      "  vrai_data[\"grav_moy_class\"][(vrai_data[\"grav_moy\"]>=1.01) & (vrai_data[\"grav_moy\"]<=2)]=3\n"
     ]
    }
   ],
   "source": [
    "vrai_data[\"grav_moy_class\"] = 0\n",
    "vrai_data[\"grav_moy_class\"][(vrai_data[\"grav_moy\"]>=0) & (vrai_data[\"grav_moy\"]<=0.51)]=1\n",
    "vrai_data[\"grav_moy_class\"][(vrai_data[\"grav_moy\"]>0.51) & (vrai_data[\"grav_moy\"]<1.01)]=2\n",
    "vrai_data[\"grav_moy_class\"][(vrai_data[\"grav_moy\"]>=1.01) & (vrai_data[\"grav_moy\"]<=2)]=3\n",
    "\n",
    "print( vrai_data[\"grav_moy_class\"])"
   ]
  },
  {
   "cell_type": "code",
   "execution_count": 61,
   "metadata": {},
   "outputs": [
    {
     "data": {
      "text/plain": [
       "1    26135\n",
       "2    23618\n",
       "3     9087\n",
       "Name: grav_moy_class, dtype: int64"
      ]
     },
     "execution_count": 61,
     "metadata": {},
     "output_type": "execute_result"
    }
   ],
   "source": [
    "vrai_data[\"grav_moy_class\"].value_counts()"
   ]
  },
  {
   "cell_type": "code",
   "execution_count": 62,
   "metadata": {},
   "outputs": [
    {
     "data": {
      "image/png": "[encoded data removed]",
      "text/plain": [
       "<Figure size 432x288 with 1 Axes>"
      ]
     },
     "metadata": {},
     "output_type": "display_data"
    }
   ],
   "source": [
    "import seaborn as sns\n",
    "sns.set_theme(style=\"darkgrid\")\n",
    "\n",
    "ax = sns.countplot(x=\"grav_moy_class\", data=vrai_data)"
   ]
  },
  {
   "cell_type": "code",
   "execution_count": 63,
   "metadata": {},
   "outputs": [],
   "source": [
    "vrai_data = vrai_data[vrai_data[\"atm\"]!=-1]"
   ]
  },
  {
   "cell_type": "code",
   "execution_count": 64,
   "metadata": {},
   "outputs": [
    {
     "name": "stdout",
     "output_type": "stream",
     "text": [
      "[6 4 5 3 1 2 7]\n"
     ]
    }
   ],
   "source": [
    "vrai_data['journee'] = vrai_data['journee'].replace('Monday', 1)\n",
    "vrai_data['journee'] = vrai_data['journee'].replace('Tuesday', 2)\n",
    "vrai_data['journee'] = vrai_data['journee'].replace('Wednesday', 3)\n",
    "vrai_data['journee'] = vrai_data['journee'].replace('Thursday', 4)\n",
    "vrai_data['journee'] = vrai_data['journee'].replace('Friday', 5)\n",
    "vrai_data['journee'] = vrai_data['journee'].replace('Saturday',6)\n",
    "vrai_data['journee'] = vrai_data['journee'].replace('Sunday', 7)\n",
    "\n",
    "print(vrai_data['journee'].unique())\n",
    "\n",
    "\n",
    "#Monday Tuesday Wednesday Thursday Friday Saturday Sunday"
   ]
  },
  {
   "cell_type": "code",
   "execution_count": 65,
   "metadata": {},
   "outputs": [
    {
     "name": "stdout",
     "output_type": "stream",
     "text": [
      "       lum dep  agg  atm       date  cat_time  journee  grav_moy  vacances  \\\n",
      "29       1  78    2    8 2019-11-25         1        1       1.0         2   \n",
      "107      2  63    2    1 2019-09-16         3        1       0.5         2   \n",
      "109      1  62    2    1 2019-09-02         1        1       1.5         2   \n",
      "152      1  64    1    1 2019-02-18         1        1       1.0         2   \n",
      "181      1  28    1    1 2019-02-18         1        1       1.0         2   \n",
      "...    ...  ..  ...  ...        ...       ...      ...       ...       ...   \n",
      "58693    1  27    2    1 2019-12-02         1        1       1.0         2   \n",
      "58695    1  60    2    1 2019-12-02         1        1       0.5         2   \n",
      "58697    5  60    2    1 2019-12-02         2        1       2.0         2   \n",
      "58700    1  59    2    7 2019-12-02         1        1       1.0         2   \n",
      "58740    5  62    2    8 2019-11-25         3        1       0.4         2   \n",
      "\n",
      "       grav_moy_class  \n",
      "29                  2  \n",
      "107                 1  \n",
      "109                 3  \n",
      "152                 2  \n",
      "181                 2  \n",
      "...               ...  \n",
      "58693               2  \n",
      "58695               1  \n",
      "58697               3  \n",
      "58700               2  \n",
      "58740               1  \n",
      "\n",
      "[7998 rows x 10 columns]\n"
     ]
    }
   ],
   "source": [
    "print(vrai_data[vrai_data['journee']==1])"
   ]
  },
  {
   "cell_type": "code",
   "execution_count": 66,
   "metadata": {},
   "outputs": [
    {
     "name": "stdout",
     "output_type": "stream",
     "text": [
      "0.5343303874915024\n",
      "[0.5256628144119646, 0.5341604350781781, 0.5317811012916384, 0.5345003399048266, 0.5455472467709042]\n"
     ]
    }
   ],
   "source": [
    "import numpy as np\n",
    "from sklearn.model_selection import StratifiedShuffleSplit\n",
    "from sklearn.metrics import accuracy_score\n",
    "from sklearn.linear_model import SGDClassifier\n",
    "from sklearn.pipeline import make_pipeline\n",
    "from sklearn.preprocessing import StandardScaler, OneHotEncoder\n",
    "from sklearn.linear_model import SGDRegressor\n",
    "\n",
    "from sklearn import svm, datasets\n",
    "\n",
    "X = np.c_[vrai_data[[\"dep\",\"lum\", \"agg\",\"atm\",\"date\",\"cat_time\",\"journee\",\"vacances\"]]]\n",
    "y = y_train = np.array(vrai_data[\"grav_moy_class\"])\n",
    "\n",
    "\n",
    "\n",
    "model = make_pipeline(OneHotEncoder(handle_unknown='ignore'),\n",
    "                     SGDClassifier(loss='log',max_iter=1500))\n",
    "\n",
    "\n",
    "ac_score = []\n",
    "\n",
    "kf = StratifiedShuffleSplit(n_splits=5,test_size=0.1, random_state=42)\n",
    "\n",
    "for train_index, test_index in kf.split(X, y):\n",
    "    \n",
    "    X_train, X_test = X[train_index], X[test_index]\n",
    "    y_train, y_test = y[train_index], y[test_index]\n",
    "    \n",
    "    model.fit(X_train, y_train)\n",
    "    ac_score.append(accuracy_score(y_test, model.predict(X_test)))\n",
    "    \n",
    "print(np.mean(ac_score))\n",
    "print(ac_score)"
   ]
  },
  {
   "cell_type": "code",
   "execution_count": 75,
   "metadata": {},
   "outputs": [
    {
     "data": {
      "text/plain": [
       "['visa.joblib']"
      ]
     },
     "execution_count": 75,
     "metadata": {},
     "output_type": "execute_result"
    }
   ],
   "source": [
    "\n",
    "from joblib import dump\n",
    "\n",
    "dump(model, 'visa.joblib')\n"
   ]
  },
  {
   "cell_type": "code",
   "execution_count": 73,
   "metadata": {},
   "outputs": [
    {
     "name": "stdout",
     "output_type": "stream",
     "text": [
      "0.8854334613594667\n"
     ]
    }
   ],
   "source": [
    "from sklearn.datasets import make_multilabel_classification\n",
    "from sklearn.multioutput import MultiOutputClassifier\n",
    "from sklearn.linear_model import LogisticRegression\n",
    "from sklearn.metrics import roc_auc_score\n",
    "\n",
    "X = np.c_[vrai_data[[\"dep\",\"lum\", \"agg\",\"atm\",\"date\",\"cat_time\",\"journee\",\"vacances\"]]]\n",
    "y = y_train = np.array(vrai_data[\"grav_moy_class\"])\n",
    "\n",
    "X, y = make_multilabel_classification(random_state=0)\n",
    "\n",
    "inner_clf = LogisticRegression(solver=\"liblinear\", random_state=0)\n",
    "clf = MultiOutputClassifier(inner_clf).fit(X, y)\n",
    "y_score = np.transpose([y_pred[:, 1] for y_pred in clf.predict_proba(X)])\n",
    "roc_auc_score(y, y_score, average=None)\n",
    "\n",
    "print(np.mean(roc_auc_score(y, y_score, average=None)))"
   ]
  },
  {
   "cell_type": "code",
   "execution_count": 74,
   "metadata": {},
   "outputs": [
    {
     "data": {
      "text/plain": [
       "['vi.joblib']"
      ]
     },
     "execution_count": 74,
     "metadata": {},
     "output_type": "execute_result"
    }
   ],
   "source": [
    "from joblib import dump\n",
    "\n",
    "dump(clf, 'vi.joblib')\n"
   ]
  }
 ],
 "metadata": {
  "kernelspec": {
   "display_name": "Python 3",
   "language": "python",
   "name": "python3"
  },
  "language_info": {
   "codemirror_mode": {
    "name": "ipython",
    "version": 3
   },
   "file_extension": ".py",
   "mimetype": "text/x-python",
   "name": "python",
   "nbconvert_exporter": "python",
   "pygments_lexer": "ipython3",
   "version": "3.8.11"
  }
 },
 "nbformat": 4,
 "nbformat_minor": 5
}